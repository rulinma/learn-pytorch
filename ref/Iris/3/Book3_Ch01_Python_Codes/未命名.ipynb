{
 "cells": [
  {
   "cell_type": "code",
   "execution_count": 1,
   "id": "7e48fad4-8986-42af-a360-04a706bd51b8",
   "metadata": {},
   "outputs": [
    {
     "name": "stdout",
     "output_type": "stream",
     "text": [
      "pi =  3.141592653589793\n",
      "e =  2.718281828459045\n",
      "sqrt(2) =  1.4142135623730951\n"
     ]
    }
   ],
   "source": [
    "%run Bk3_Ch1_01.py\n"
   ]
  },
  {
   "cell_type": "code",
   "execution_count": null,
   "id": "4f0ca2a5-04f6-4ec6-8992-d5eeb6d1bc48",
   "metadata": {},
   "outputs": [],
   "source": []
  },
  {
   "cell_type": "code",
   "execution_count": null,
   "id": "ffd4d341-69ea-44d5-9415-b4a72c600329",
   "metadata": {},
   "outputs": [],
   "source": []
  }
 ],
 "metadata": {
  "kernelspec": {
   "display_name": "Python [conda env:base]",
   "language": "python",
   "name": "conda-base-py"
  },
  "language_info": {
   "codemirror_mode": {
    "name": "ipython",
    "version": 3
   },
   "file_extension": ".py",
   "mimetype": "text/x-python",
   "name": "python",
   "nbconvert_exporter": "python",
   "pygments_lexer": "ipython3",
   "version": "3.12.4"
  }
 },
 "nbformat": 4,
 "nbformat_minor": 5
}
